{
 "cells": [
  {
   "cell_type": "code",
   "execution_count": 1,
   "metadata": {},
   "outputs": [
    {
     "data": {
      "text/plain": [
       "'\\nCreated on Thu Oct  1-2/10/2019\\n@author: EZolduoarrati\\n@BlessTheLord\\n\\n'"
      ]
     },
     "execution_count": 1,
     "metadata": {},
     "output_type": "execute_result"
    }
   ],
   "source": [
    "\"\"\"\n",
    "Created on Thu Oct  1-2/10/2019\n",
    "@author: EZolduoarrati\n",
    "@PraiseTheLord\n",
    "\n",
    "\"\"\""
   ]
  },
  {
   "cell_type": "code",
   "execution_count": 2,
   "metadata": {},
   "outputs": [
    {
     "data": {
      "text/plain": [
       "131072"
      ]
     },
     "execution_count": 2,
     "metadata": {},
     "output_type": "execute_result"
    }
   ],
   "source": [
    "import csv\n",
    "import re\n",
    "import numpy as np\n",
    "import langid\n",
    "import nltk\n",
    "csv.field_size_limit(1000000)"
   ]
  },
  {
   "cell_type": "code",
   "execution_count": 3,
   "metadata": {},
   "outputs": [
    {
     "data": {
      "text/plain": [
       "1000000"
      ]
     },
     "execution_count": 3,
     "metadata": {},
     "output_type": "execute_result"
    }
   ],
   "source": [
    "csv.field_size_limit()"
   ]
  },
  {
   "cell_type": "code",
   "execution_count": 4,
   "metadata": {},
   "outputs": [],
   "source": [
    "def clean(txt):\n",
    "    f = open(txt, encoding=\"utf8\")\n",
    "    file1 = open(\"common_words.txt\")\n",
    "    output = open(\"RU_output.csv\",'w')\n",
    "    read_file = file1.read()\n",
    "    csv_f = csv.reader(f)\n",
    "    english_vocab = set(w.lower() for w in nltk.corpus.words.words())\n",
    "    for row in csv_f:\n",
    "        s = re.findall(\"[a-zA-Z]+\",row[2])\n",
    "        k = ''''''\n",
    "        for words in s:\n",
    "            if words.casefold() in read_file and words.casefold() in english_vocab and len(words.casefold()) >= 2:\n",
    "                k+=words.casefold()+\" \"\n",
    "        str1 = re.sub(r'(https|http)?:\\/\\/(\\w|\\.|\\/|\\?|\\=|\\&|\\%)*\\b','', k)\n",
    "        str1 = re.sub(r'\\d','', str1)\n",
    "        str1 = re.sub(r'(https|http)?:\\/\\/(\\w|\\.|\\/|\\?|\\=|\\&|\\%)*\\b','', str1)\n",
    "        str1 = re.sub(r'\\W+',' ', str1)\n",
    "        str1 = re.sub(r\"(?m)^[^\\S\\n]+\", \"\", str1)\n",
    "        str1 = re.sub(r\"string.punctuation\", '', str1)\n",
    "        str1 = re.sub(r\"^\\s+\", \"\", str1)\n",
    "        str1 = re.sub(r\"\\s+$\", \"\", str1)\n",
    "        if (langid.classify (str1))[0] == \"en\":\n",
    "            row.append(str1)\n",
    "        del row[2]\n",
    "        if len(row) == 3 and len(row[2]) != 0:\n",
    "            joined = ','.join(row)\n",
    "            print((repr(joined)), file=output)\n",
    "    f.close()\n",
    "    file1.close()\n",
    "    output.close()"
   ]
  },
  {
   "cell_type": "code",
   "execution_count": 5,
   "metadata": {
    "scrolled": false
   },
   "outputs": [],
   "source": [
    "clean(\"test_RU.csv\")"
   ]
  },
  {
   "cell_type": "code",
   "execution_count": null,
   "metadata": {},
   "outputs": [],
   "source": []
  }
 ],
 "metadata": {
  "kernelspec": {
   "display_name": "Python 3",
   "language": "python",
   "name": "python3"
  },
  "language_info": {
   "codemirror_mode": {
    "name": "ipython",
    "version": 3
   },
   "file_extension": ".py",
   "mimetype": "text/x-python",
   "name": "python",
   "nbconvert_exporter": "python",
   "pygments_lexer": "ipython3",
   "version": "3.7.3"
  }
 },
 "nbformat": 4,
 "nbformat_minor": 2
}
