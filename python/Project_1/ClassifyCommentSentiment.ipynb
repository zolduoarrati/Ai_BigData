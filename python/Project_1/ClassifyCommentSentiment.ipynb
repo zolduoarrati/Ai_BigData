{
 "cells": [
  {
   "cell_type": "markdown",
   "metadata": {},
   "source": [
    "This Python code below uses SentiStrength to classify the sentiment of each line of a text file.\n",
    "\n",
    "To start, some Python modules need to be imported."
   ]
  },
  {
   "cell_type": "code",
   "execution_count": 1,
   "metadata": {},
   "outputs": [],
   "source": [
    "import subprocess\n",
    "import shlex\n",
    "import os.path\n",
    "import sys"
   ]
  },
  {
   "cell_type": "markdown",
   "metadata": {},
   "source": [
    "Please change the locations below to point to the following on your computer: \n",
    "   * SentiStrength\n",
    "   * the SentiStrength data folder and\n",
    "to make this code work. These are near the top of the code below.\n",
    "The results will be saved to the folder where the YouTube files are kept.\n",
    "Only use forward slashes /."
   ]
  },
  {
   "cell_type": "code",
   "execution_count": 2,
   "metadata": {},
   "outputs": [],
   "source": [
    "SentiStrengthLocation = \"C:/TMP/SentiStrength.jar\" #The location of SentiStrength on your computer\n",
    "SentiStrengthLanguageFolder = \"C:/senti/SentiStrength_Data/\" #The location of the unzipped SentiStrength data files on your computer"
   ]
  },
  {
   "cell_type": "markdown",
   "metadata": {},
   "source": [
    "The following code tests that the above three locations are correct. If you don't get an error message then this is fine."
   ]
  },
  {
   "cell_type": "code",
   "execution_count": 3,
   "metadata": {},
   "outputs": [],
   "source": [
    "if not os.path.isfile(SentiStrengthLocation):\n",
    "    print(\"SentiStrength not found at: \", SentiStrengthLocation)\n",
    "if not os.path.isdir(SentiStrengthLanguageFolder):\n",
    "    print(\"SentiStrength data folder not found at: \", SentiStrengthLanguageFolder)"
   ]
  },
  {
   "cell_type": "markdown",
   "metadata": {},
   "source": [
    "The code below allows SentiStrength to be called and run on a single line of text."
   ]
  },
  {
   "cell_type": "code",
   "execution_count": 7,
   "metadata": {},
   "outputs": [],
   "source": [
    "def RateSentiment(sentiString):\n",
    "    #open a subprocess using shlex to get the command line string into the correct args list format\n",
    "    p = subprocess.Popen(shlex.split(\"java -jar '\" + SentiStrengthLocation + \"' stdin sentidata '\" + SentiStrengthLanguageFolder + \"'\"),stdin=subprocess.PIPE,stdout=subprocess.PIPE,stderr=subprocess.PIPE)\n",
    "    #communicate via stdin the string to be rated. Note that all spaces are replaced with +\n",
    "    b = bytes(sentiString.replace(\" \",\"+\"), 'utf-8') #Can't send string in Python 3, must send bytes\n",
    "    stdout_byte, stderr_text = p.communicate(b)\n",
    "    stdout_text = stdout_byte.decode(\"utf-8\")  #convert from byte\n",
    "    stdout_text = stdout_text.rstrip().replace(\"\\t\",\" \") #remove the tab spacing between the positive and negative ratings. e.g. 1    -5 -> 1 -5\n",
    "    return stdout_text + \" \" + sentiString"
   ]
  },
  {
   "cell_type": "markdown",
   "metadata": {},
   "source": [
    "The above procedure can now be called to test if SentiStrength is working. This should generate the output 3 and -1.\n",
    "You can change the text to classify something else if you like."
   ]
  },
  {
   "cell_type": "code",
   "execution_count": 8,
   "metadata": {},
   "outputs": [
    {
     "name": "stdout",
     "output_type": "stream",
     "text": [
      "3 -1 A lovely day!\n"
     ]
    }
   ],
   "source": [
    "print(RateSentiment(\"A lovely day!\"))"
   ]
  },
  {
   "cell_type": "markdown",
   "metadata": {},
   "source": [
    "If all the tests are successful then SentiStrength can be run on a file.\n",
    "Enter the location of the file below."
   ]
  },
  {
   "cell_type": "code",
   "execution_count": null,
   "metadata": {
    "collapsed": true
   },
   "outputs": [],
   "source": [
    "FileToClassify = \"D:/Downloads/k-pop test/BLACKPINK_eng-1kYrp_Bs8DU_commentsOnly.txt\" #The location of the file that you want classified.\n",
    "if not os.path.isfile(FileToClassify):\n",
    "    print(\"File to classify not found at: \", FileToClassify)"
   ]
  },
  {
   "cell_type": "markdown",
   "metadata": {},
   "source": [
    "Now SentiStrength can be run to classify all the lines of the above file."
   ]
  },
  {
   "cell_type": "code",
   "execution_count": null,
   "metadata": {},
   "outputs": [],
   "source": [
    "print(\"Running SentiStrength on file \" + FileToClassify + \" with command:\")\n",
    "cmd = 'java -jar \"' + SentiStrengthLocation + '\" sentidata \"' + SentiStrengthLanguageFolder + '\" input \"' + FileToClassify + '\"'\n",
    "print(cmd)\n",
    "p = subprocess.Popen(shlex.split(cmd),stdin=subprocess.PIPE,stdout=subprocess.PIPE,stderr=subprocess.PIPE)\n",
    "classifiedSentimentFile = os.path.splitext(FileToClassify)[0] + \"0_out.txt\"\n",
    "print(\"Finished! The results will be in:\\n\" + classifiedSentimentFile)"
   ]
  },
  {
   "cell_type": "markdown",
   "metadata": {},
   "source": [
    "If you want to view or process the file in Jupyter, this can be done with the spreadsheet-like code from Pandas.\n",
    "First, import Pandas and call it pd."
   ]
  },
  {
   "cell_type": "code",
   "execution_count": null,
   "metadata": {
    "collapsed": true
   },
   "outputs": [],
   "source": [
    "import pandas as pd"
   ]
  },
  {
   "cell_type": "markdown",
   "metadata": {},
   "source": [
    "Pandas groups data together into a DataFrame object. First, read the classified file into a DataFrame.\n",
    "If the code below does not work, please try these alternative codings: encoding='latin1', encoding='iso-8859-1',  encoding='cp1252', encoding='utf-8', or encoding='utf-16'"
   ]
  },
  {
   "cell_type": "code",
   "execution_count": null,
   "metadata": {
    "collapsed": true
   },
   "outputs": [],
   "source": [
    "comments = pd.read_csv(classifiedSentimentFile, delimiter='\\t', encoding='latin1')"
   ]
  },
  {
   "cell_type": "markdown",
   "metadata": {},
   "source": [
    "Show the first few lines comments - the first can be ignored."
   ]
  },
  {
   "cell_type": "code",
   "execution_count": null,
   "metadata": {},
   "outputs": [],
   "source": [
    "comments.head()"
   ]
  },
  {
   "cell_type": "markdown",
   "metadata": {},
   "source": [
    "To calculate the average positive sentiment and negative sentiment in the file:"
   ]
  },
  {
   "cell_type": "code",
   "execution_count": null,
   "metadata": {},
   "outputs": [],
   "source": [
    "comments[\"Positive\"].mean()"
   ]
  },
  {
   "cell_type": "code",
   "execution_count": null,
   "metadata": {},
   "outputs": [],
   "source": [
    "comments[\"Negative\"].mean()"
   ]
  },
  {
   "cell_type": "markdown",
   "metadata": {},
   "source": [
    "You can also open the output file in Notepad, copy it to Excel or learn other Pandas commands to process it."
   ]
  },
  {
   "cell_type": "markdown",
   "metadata": {},
   "source": [
    "The Python code below classifies the sentiment on all files within a folder.\n",
    "\n",
    "***ONLY RUN THE CODE BELOW IF YOU WANT TO CLASSIFY THE SENTIMENT ON ALL FILES IN ONE GO***\n",
    "\n",
    "You will need to change the locations of: \n",
    "   * SentiStrength\n",
    "   * the SentiStrength data folder and\n",
    "   * the YouTube comments file\n",
    "to make this code work. These are near the top of the code below."
   ]
  },
  {
   "cell_type": "code",
   "execution_count": null,
   "metadata": {},
   "outputs": [],
   "source": [
    "import subprocess\n",
    "import shlex\n",
    "import os.path\n",
    "import sys\n",
    "\n",
    "#######################################################################################################\n",
    "## Modify the three lines below to make this program work on your computer.                          ##\n",
    "## Be careful with the direction of the slashes / and include a slash at the end of the second path. ##\n",
    "#######################################################################################################\n",
    "SentiStrengthLocation = \"D:/Downloads/k-pop test/SentiStrength.jar\" #This must point to the location of SentiStrength on your computer\n",
    "SentiStrengthLanguageFolder = \"D:/Downloads/k-pop test/SentiStrength_Data/\" #This must point to the location of the unzipped SentiStrength data files on your computer\n",
    "FolderOfFilesToClassify = \"D:/Downloads/k-pop test/test/\" #This must point to the location of the folder of files that you want classified.\n",
    "\n",
    "#Test file locations and quit if anything not found\n",
    "if not os.path.isfile(SentiStrengthLocation):\n",
    "    print(\"SentiStrength not found at: \", SentiStrengthLocation)\n",
    "    sys.exit()\n",
    "if not os.path.isdir(SentiStrengthLanguageFolder):\n",
    "    print(\"SentiStrength langauge files folder not found at: \", SentiStrengthLanguageFolder)\n",
    "    sys.exit()\n",
    "if not os.path.isdir(FolderOfFilesToClassify):\n",
    "    print(\"Folder of files to classify not found at: \", FolderOfFilesToClassify)\n",
    "    sys.exit()\n",
    "\n",
    "# Test if SentiStrength is working\n",
    "def RateSentiment(sentiString):\n",
    "    #open a subprocess using shlex to get the command line string into the correct args list format\n",
    "    p = subprocess.Popen(shlex.split(\"java -jar '\" + SentiStrengthLocation + \"' stdin sentidata '\" + SentiStrengthLanguageFolder + \"'\"),stdin=subprocess.PIPE,stdout=subprocess.PIPE,stderr=subprocess.PIPE)\n",
    "    #communicate via stdin the string to be rated. Note that all spaces are replaced with +\n",
    "    #Can't send string in Python 3, must send bytes\n",
    "    b = bytes(sentiString.replace(\" \",\"+\"), 'utf-8')\n",
    "    stdout_byte, stderr_text = p.communicate(b)\n",
    "    #convert from byte\n",
    "    stdout_text = stdout_byte.decode(\"utf-8\") \n",
    "    #remove the tab spacing between the positive and negative ratings. e.g. 1    -5 -> 1 -5\n",
    "    stdout_text = stdout_text.rstrip().replace(\"\\t\",\" \")\n",
    "    return stdout_text + \" \" + sentiString\n",
    "\n",
    "print(\"If SentiStrength is working then 3 and -1 will be next:\", RateSentiment(\"A lovely day!\"))\n",
    "\n",
    "print(\"\\nRunning SentiStrength with command\")\n",
    "cmd = 'java -jar \"' + SentiStrengthLocation + '\" sentidata \"' + SentiStrengthLanguageFolder + '\" annotateCol 1 inputFolder \"' + FolderOfFilesToClassify + '\" overwrite'\n",
    "print(cmd, \"\\n\")\n",
    "\n",
    "p = subprocess.Popen(shlex.split(cmd),stdin=subprocess.PIPE,stdout=subprocess.PIPE,stderr=subprocess.PIPE)\n",
    "print(\"The results will be added to each file in\\n\" + FolderOfFilesToClassify)\n"
   ]
  }
 ],
 "metadata": {
  "kernelspec": {
   "display_name": "Python 3",
   "language": "python",
   "name": "python3"
  },
  "language_info": {
   "codemirror_mode": {
    "name": "ipython",
    "version": 3
   },
   "file_extension": ".py",
   "mimetype": "text/x-python",
   "name": "python",
   "nbconvert_exporter": "python",
   "pygments_lexer": "ipython3",
   "version": "3.7.3"
  }
 },
 "nbformat": 4,
 "nbformat_minor": 2
}
